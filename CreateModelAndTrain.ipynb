{
  "nbformat": 4,
  "nbformat_minor": 0,
  "metadata": {
    "colab": {
      "name": "CreateModelAndTrain.ipynb",
      "provenance": [],
      "include_colab_link": true
    },
    "kernelspec": {
      "name": "python3",
      "display_name": "Python 3"
    },
    "accelerator": "GPU"
  },
  "cells": [
    {
      "cell_type": "markdown",
      "metadata": {
        "id": "view-in-github",
        "colab_type": "text"
      },
      "source": [
        "<a href=\"https://colab.research.google.com/github/meysamsadeghi/Security-and-Robustness-of-Deep-Learning-in-Wireless-Communication-Systems/blob/master/Adv_Attack_Modulation_Classification/CreateModelAndTrain.ipynb\" target=\"_parent\"><img src=\"https://colab.research.google.com/assets/colab-badge.svg\" alt=\"Open In Colab\"/></a>"
      ]
    },
    {
      "cell_type": "code",
      "metadata": {
        "id": "TiPyzep-czMM",
        "colab_type": "code",
        "colab": {
          "base_uri": "https://localhost:8080/",
          "height": 1000
        },
        "outputId": "781903e5-6716-477c-87d3-51d928cb4f1a"
      },
      "source": [
        "!pip install tensorflow-gpu==2.0.0"
      ],
      "execution_count": 1,
      "outputs": [
        {
          "output_type": "stream",
          "text": [
            "Collecting tensorflow-gpu==2.0.0\n",
            "\u001b[?25l  Downloading https://files.pythonhosted.org/packages/25/44/47f0722aea081697143fbcf5d2aa60d1aee4aaacb5869aee2b568974777b/tensorflow_gpu-2.0.0-cp36-cp36m-manylinux2010_x86_64.whl (380.8MB)\n",
            "\u001b[K     |████████████████████████████████| 380.8MB 45kB/s \n",
            "\u001b[?25hRequirement already satisfied: absl-py>=0.7.0 in /usr/local/lib/python3.6/dist-packages (from tensorflow-gpu==2.0.0) (0.8.1)\n",
            "Requirement already satisfied: google-pasta>=0.1.6 in /usr/local/lib/python3.6/dist-packages (from tensorflow-gpu==2.0.0) (0.1.8)\n",
            "Requirement already satisfied: grpcio>=1.8.6 in /usr/local/lib/python3.6/dist-packages (from tensorflow-gpu==2.0.0) (1.15.0)\n",
            "Requirement already satisfied: termcolor>=1.1.0 in /usr/local/lib/python3.6/dist-packages (from tensorflow-gpu==2.0.0) (1.1.0)\n",
            "Requirement already satisfied: wheel>=0.26 in /usr/local/lib/python3.6/dist-packages (from tensorflow-gpu==2.0.0) (0.33.6)\n",
            "Collecting tensorboard<2.1.0,>=2.0.0\n",
            "\u001b[?25l  Downloading https://files.pythonhosted.org/packages/d3/9e/a48cd34dd7b672ffc227b566f7d16d63c62c58b542d54efa45848c395dd4/tensorboard-2.0.1-py3-none-any.whl (3.8MB)\n",
            "\u001b[K     |████████████████████████████████| 3.8MB 38.0MB/s \n",
            "\u001b[?25hCollecting tensorflow-estimator<2.1.0,>=2.0.0\n",
            "\u001b[?25l  Downloading https://files.pythonhosted.org/packages/fc/08/8b927337b7019c374719145d1dceba21a8bb909b93b1ad6f8fb7d22c1ca1/tensorflow_estimator-2.0.1-py2.py3-none-any.whl (449kB)\n",
            "\u001b[K     |████████████████████████████████| 450kB 37.9MB/s \n",
            "\u001b[?25hRequirement already satisfied: wrapt>=1.11.1 in /usr/local/lib/python3.6/dist-packages (from tensorflow-gpu==2.0.0) (1.11.2)\n",
            "Requirement already satisfied: opt-einsum>=2.3.2 in /usr/local/lib/python3.6/dist-packages (from tensorflow-gpu==2.0.0) (3.1.0)\n",
            "Requirement already satisfied: protobuf>=3.6.1 in /usr/local/lib/python3.6/dist-packages (from tensorflow-gpu==2.0.0) (3.10.0)\n",
            "Requirement already satisfied: keras-applications>=1.0.8 in /usr/local/lib/python3.6/dist-packages (from tensorflow-gpu==2.0.0) (1.0.8)\n",
            "Requirement already satisfied: numpy<2.0,>=1.16.0 in /usr/local/lib/python3.6/dist-packages (from tensorflow-gpu==2.0.0) (1.17.4)\n",
            "Requirement already satisfied: gast==0.2.2 in /usr/local/lib/python3.6/dist-packages (from tensorflow-gpu==2.0.0) (0.2.2)\n",
            "Requirement already satisfied: six>=1.10.0 in /usr/local/lib/python3.6/dist-packages (from tensorflow-gpu==2.0.0) (1.12.0)\n",
            "Requirement already satisfied: astor>=0.6.0 in /usr/local/lib/python3.6/dist-packages (from tensorflow-gpu==2.0.0) (0.8.0)\n",
            "Requirement already satisfied: keras-preprocessing>=1.0.5 in /usr/local/lib/python3.6/dist-packages (from tensorflow-gpu==2.0.0) (1.1.0)\n",
            "Requirement already satisfied: setuptools>=41.0.0 in /usr/local/lib/python3.6/dist-packages (from tensorboard<2.1.0,>=2.0.0->tensorflow-gpu==2.0.0) (41.6.0)\n",
            "Requirement already satisfied: markdown>=2.6.8 in /usr/local/lib/python3.6/dist-packages (from tensorboard<2.1.0,>=2.0.0->tensorflow-gpu==2.0.0) (3.1.1)\n",
            "Requirement already satisfied: google-auth-oauthlib<0.5,>=0.4.1 in /usr/local/lib/python3.6/dist-packages (from tensorboard<2.1.0,>=2.0.0->tensorflow-gpu==2.0.0) (0.4.1)\n",
            "Requirement already satisfied: werkzeug>=0.11.15 in /usr/local/lib/python3.6/dist-packages (from tensorboard<2.1.0,>=2.0.0->tensorflow-gpu==2.0.0) (0.16.0)\n",
            "Collecting google-auth<2,>=1.6.3\n",
            "\u001b[?25l  Downloading https://files.pythonhosted.org/packages/7b/cb/786dc53d93494784935a62947643b48250b84a882474e714f9af5e1a1928/google_auth-1.7.1-py2.py3-none-any.whl (74kB)\n",
            "\u001b[K     |████████████████████████████████| 81kB 10.1MB/s \n",
            "\u001b[?25hRequirement already satisfied: h5py in /usr/local/lib/python3.6/dist-packages (from keras-applications>=1.0.8->tensorflow-gpu==2.0.0) (2.8.0)\n",
            "Requirement already satisfied: requests-oauthlib>=0.7.0 in /usr/local/lib/python3.6/dist-packages (from google-auth-oauthlib<0.5,>=0.4.1->tensorboard<2.1.0,>=2.0.0->tensorflow-gpu==2.0.0) (1.3.0)\n",
            "Requirement already satisfied: cachetools<3.2,>=2.0.0 in /usr/local/lib/python3.6/dist-packages (from google-auth<2,>=1.6.3->tensorboard<2.1.0,>=2.0.0->tensorflow-gpu==2.0.0) (3.1.1)\n",
            "Requirement already satisfied: pyasn1-modules>=0.2.1 in /usr/local/lib/python3.6/dist-packages (from google-auth<2,>=1.6.3->tensorboard<2.1.0,>=2.0.0->tensorflow-gpu==2.0.0) (0.2.7)\n",
            "Requirement already satisfied: rsa<4.1,>=3.1.4 in /usr/local/lib/python3.6/dist-packages (from google-auth<2,>=1.6.3->tensorboard<2.1.0,>=2.0.0->tensorflow-gpu==2.0.0) (4.0)\n",
            "Requirement already satisfied: oauthlib>=3.0.0 in /usr/local/lib/python3.6/dist-packages (from requests-oauthlib>=0.7.0->google-auth-oauthlib<0.5,>=0.4.1->tensorboard<2.1.0,>=2.0.0->tensorflow-gpu==2.0.0) (3.1.0)\n",
            "Requirement already satisfied: requests>=2.0.0 in /usr/local/lib/python3.6/dist-packages (from requests-oauthlib>=0.7.0->google-auth-oauthlib<0.5,>=0.4.1->tensorboard<2.1.0,>=2.0.0->tensorflow-gpu==2.0.0) (2.21.0)\n",
            "Requirement already satisfied: pyasn1<0.5.0,>=0.4.6 in /usr/local/lib/python3.6/dist-packages (from pyasn1-modules>=0.2.1->google-auth<2,>=1.6.3->tensorboard<2.1.0,>=2.0.0->tensorflow-gpu==2.0.0) (0.4.7)\n",
            "Requirement already satisfied: urllib3<1.25,>=1.21.1 in /usr/local/lib/python3.6/dist-packages (from requests>=2.0.0->requests-oauthlib>=0.7.0->google-auth-oauthlib<0.5,>=0.4.1->tensorboard<2.1.0,>=2.0.0->tensorflow-gpu==2.0.0) (1.24.3)\n",
            "Requirement already satisfied: chardet<3.1.0,>=3.0.2 in /usr/local/lib/python3.6/dist-packages (from requests>=2.0.0->requests-oauthlib>=0.7.0->google-auth-oauthlib<0.5,>=0.4.1->tensorboard<2.1.0,>=2.0.0->tensorflow-gpu==2.0.0) (3.0.4)\n",
            "Requirement already satisfied: certifi>=2017.4.17 in /usr/local/lib/python3.6/dist-packages (from requests>=2.0.0->requests-oauthlib>=0.7.0->google-auth-oauthlib<0.5,>=0.4.1->tensorboard<2.1.0,>=2.0.0->tensorflow-gpu==2.0.0) (2019.9.11)\n",
            "Requirement already satisfied: idna<2.9,>=2.5 in /usr/local/lib/python3.6/dist-packages (from requests>=2.0.0->requests-oauthlib>=0.7.0->google-auth-oauthlib<0.5,>=0.4.1->tensorboard<2.1.0,>=2.0.0->tensorflow-gpu==2.0.0) (2.8)\n",
            "\u001b[31mERROR: tensorflow 1.15.0 has requirement tensorboard<1.16.0,>=1.15.0, but you'll have tensorboard 2.0.1 which is incompatible.\u001b[0m\n",
            "\u001b[31mERROR: tensorflow 1.15.0 has requirement tensorflow-estimator==1.15.1, but you'll have tensorflow-estimator 2.0.1 which is incompatible.\u001b[0m\n",
            "\u001b[31mERROR: tensorboard 2.0.1 has requirement grpcio>=1.24.3, but you'll have grpcio 1.15.0 which is incompatible.\u001b[0m\n",
            "\u001b[31mERROR: google-colab 1.0.0 has requirement google-auth~=1.4.0, but you'll have google-auth 1.7.1 which is incompatible.\u001b[0m\n",
            "Installing collected packages: google-auth, tensorboard, tensorflow-estimator, tensorflow-gpu\n",
            "  Found existing installation: google-auth 1.4.2\n",
            "    Uninstalling google-auth-1.4.2:\n",
            "      Successfully uninstalled google-auth-1.4.2\n",
            "  Found existing installation: tensorboard 1.15.0\n",
            "    Uninstalling tensorboard-1.15.0:\n",
            "      Successfully uninstalled tensorboard-1.15.0\n",
            "  Found existing installation: tensorflow-estimator 1.15.1\n",
            "    Uninstalling tensorflow-estimator-1.15.1:\n",
            "      Successfully uninstalled tensorflow-estimator-1.15.1\n",
            "Successfully installed google-auth-1.7.1 tensorboard-2.0.1 tensorflow-estimator-2.0.1 tensorflow-gpu-2.0.0\n"
          ],
          "name": "stdout"
        },
        {
          "output_type": "display_data",
          "data": {
            "application/vnd.colab-display-data+json": {
              "pip_warning": {
                "packages": [
                  "google"
                ]
              }
            }
          },
          "metadata": {
            "tags": []
          }
        }
      ]
    },
    {
      "cell_type": "code",
      "metadata": {
        "id": "dY8uVpwkM-MP",
        "colab_type": "code",
        "colab": {
          "base_uri": "https://localhost:8080/",
          "height": 35
        },
        "outputId": "f58605e3-2751-4d01-fb6f-27919282369d"
      },
      "source": [
        "import pickle\n",
        "\n",
        "import tensorflow as tf\n",
        "import numpy as np\n",
        "import matplotlib.pyplot as plt\n",
        "\n",
        "\n",
        "tf.__version__"
      ],
      "execution_count": 1,
      "outputs": [
        {
          "output_type": "execute_result",
          "data": {
            "text/plain": [
              "'2.0.0'"
            ]
          },
          "metadata": {
            "tags": []
          },
          "execution_count": 1
        }
      ]
    },
    {
      "cell_type": "code",
      "metadata": {
        "id": "eFn7BjSUNwcC",
        "colab_type": "code",
        "colab": {}
      },
      "source": [
        "# It is GNU radio generated datset which accounts for practical aspect of wieless channels such as ...\n",
        "# It 220,000 samples. Each sample is 2*128 matrix containing the IQ (2) of a received signal sampled 128 times.\n",
        "# It contains sample points for 11 diifferent modulation schemes (BPSK,QAM,8PSK,...) at 20 different SNR levels, which adds up to 220 tuples of ('modulation',SNR) where for each tuple we have 1000 samples of dimenssion 2*128.\n",
        "\n",
        "def to_onehot(yin):\n",
        "    yy = list(yin) # This is a workaround as the map output for python3 is not a list\n",
        "    yy1 = np.zeros([len(list(yy)), max(yy)+1])\n",
        "    yy1[np.arange(len(list(yy))),yy] = 1\n",
        "    return yy1\n",
        "    \n",
        "\n",
        "def ModCls_loaddata(path_to_dataset):\n",
        "    # There is a Pickle incompatibility of numpy arrays between Python 2 and 3\n",
        "    # which generates ascii encoding error, to work around that we use the following instead of\n",
        "    # Xd = cPickle.load(open(\"RML2016.10a_dict.dat\",'rb'))\n",
        "    with open(path_to_dataset, 'rb') as open_file:\n",
        "        u = pickle._Unpickler( open_file )\n",
        "        u.encoding = 'latin1'\n",
        "        Xd = u.load()\n",
        "    \n",
        "    snrs,mods = map(lambda j: sorted(list(set(map(lambda x: x[j], Xd.keys())))), [1,0])\n",
        "    X = []  \n",
        "    lbl = []\n",
        "    for mod in mods:\n",
        "        for snr in snrs:\n",
        "            X.append(Xd[(mod,snr)])\n",
        "            for i in range(Xd[(mod,snr)].shape[0]):  lbl.append((mod,snr))\n",
        "    X = np.vstack(X)\n",
        "    \n",
        "    # Partition the data\n",
        "    #  into training and test sets of the form we can train/test on \n",
        "    #  while keeping SNR and Mod labels handy for each\n",
        "    np.random.seed(2016)\n",
        "    n_examples = X.shape[0]\n",
        "    n_train = int(n_examples * 0.5)\n",
        "    train_idx = np.random.choice(range(0,n_examples), size=n_train, replace=False)\n",
        "    test_idx = list(set(range(0,n_examples))-set(train_idx))\n",
        "    X_train = X[train_idx]\n",
        "    X_test =  X[test_idx]\n",
        "    \n",
        "    Y_train = to_onehot(map(lambda x: mods.index(lbl[x][0]), train_idx))\n",
        "    Y_test = to_onehot(map(lambda x: mods.index(lbl[x][0]), test_idx))\n",
        "    \n",
        "    in_shp = list(X_train.shape[1:])\n",
        "    classes = mods\n",
        "    return X,lbl,X_train,X_test,classes,snrs,mods,Y_train,Y_test,train_idx,test_idx"
      ],
      "execution_count": 0,
      "outputs": []
    },
    {
      "cell_type": "code",
      "metadata": {
        "id": "mkrHXITdOkV3",
        "colab_type": "code",
        "colab": {
          "base_uri": "https://localhost:8080/",
          "height": 145
        },
        "outputId": "53d41c8f-a2cb-4d84-de65-cfffd380f68f"
      },
      "source": [
        "from google.colab import drive\n",
        "drive.mount('/gdrive')\n",
        "%cd /gdrive"
      ],
      "execution_count": 6,
      "outputs": [
        {
          "output_type": "stream",
          "text": [
            "Go to this URL in a browser: https://accounts.google.com/o/oauth2/auth?client_id=947318989803-6bn6qk8qdgf4n4g3pfee6491hc0brc4i.apps.googleusercontent.com&redirect_uri=urn%3aietf%3awg%3aoauth%3a2.0%3aoob&response_type=code&scope=email%20https%3a%2f%2fwww.googleapis.com%2fauth%2fdocs.test%20https%3a%2f%2fwww.googleapis.com%2fauth%2fdrive%20https%3a%2f%2fwww.googleapis.com%2fauth%2fdrive.photos.readonly%20https%3a%2f%2fwww.googleapis.com%2fauth%2fpeopleapi.readonly\n",
            "\n",
            "Enter your authorization code:\n",
            "··········\n",
            "Mounted at /gdrive\n",
            "/gdrive\n"
          ],
          "name": "stdout"
        }
      ]
    },
    {
      "cell_type": "code",
      "metadata": {
        "id": "PK644S7ERb9-",
        "colab_type": "code",
        "colab": {
          "base_uri": "https://localhost:8080/",
          "height": 197
        },
        "outputId": "ec2b16f3-53d3-46bf-eff0-f07d7982c798"
      },
      "source": [
        "!ls 'My Drive/Colab Notebooks'"
      ],
      "execution_count": 9,
      "outputs": [
        {
          "output_type": "stream",
          "text": [
            " Adv_Attack_Mod_Classification.ipynb\n",
            " adv_fgsm_mnist.ipynb\n",
            " checking_GPU_memory.ipynb\n",
            " Leonoid_Afremov_Couple_under_one_umbrella.jpg\n",
            " picasso_girl_before_a_mirror.jpg\n",
            " RML2016.10a_dict.pkl\n",
            "'Veoneer Innovation with Neural style transfer'\n",
            " Veoneer_listed_NY_stock.jpg\n",
            " VNE_Leonoid_Afremov_Couple_under_one_umbrella.png\n",
            " VNE_picasso_girl_before_a_mirror.png\n"
          ],
          "name": "stdout"
        }
      ]
    },
    {
      "cell_type": "code",
      "metadata": {
        "id": "hILwCjXLOBsD",
        "colab_type": "code",
        "colab": {
          "base_uri": "https://localhost:8080/",
          "height": 269
        },
        "outputId": "640907e3-64cb-4a8a-dae9-c29c38cf9b0c"
      },
      "source": [
        "X,lbl,X_train,X_test,classes,snrs,mods,Y_train,Y_test,train_idx,test_idx = ModCls_loaddata(\n",
        "    'My Drive/Colab Notebooks/RML2016.10a_dict.pkl')\n",
        "\n",
        "print('X_train.shape:', X_train.shape)\n",
        "print('Y_train.shape:', Y_train.shape)\n",
        "print(X.shape)\n",
        "print(len(lbl))\n",
        "\n",
        "\n",
        "\n",
        "print('Y_train[4:9]: \\n', Y_train[4:9])\n",
        "print('train_idx.shape:', train_idx.shape)\n",
        "print('train_idx[4:9]:', train_idx[4:9])\n",
        "print(lbl[train_idx[4]], lbl[train_idx[5]], lbl[train_idx[6]], lbl[train_idx[7]], lbl[train_idx[8]], lbl[train_idx[9]])\n",
        "\n",
        "print('classes:', classes)"
      ],
      "execution_count": 10,
      "outputs": [
        {
          "output_type": "stream",
          "text": [
            "X_train.shape: (110000, 2, 128)\n",
            "Y_train.shape: (110000, 11)\n",
            "(220000, 2, 128)\n",
            "220000\n",
            "Y_train[4:9]: \n",
            " [[0. 0. 0. 0. 0. 0. 0. 0. 0. 1. 0.]\n",
            " [0. 0. 0. 0. 0. 0. 0. 0. 0. 1. 0.]\n",
            " [0. 0. 0. 0. 0. 0. 0. 0. 1. 0. 0.]\n",
            " [0. 0. 0. 0. 0. 0. 0. 0. 1. 0. 0.]\n",
            " [0. 0. 0. 0. 0. 0. 0. 1. 0. 0. 0.]]\n",
            "train_idx.shape: (110000,)\n",
            "train_idx[4:9]: [184829 192624 169402 179790 145554]\n",
            "('QPSK', -12) ('QPSK', 4) ('QAM64', -2) ('QAM64', 18) ('QAM16', -10) ('BPSK', -2)\n",
            "classes: ['8PSK', 'AM-DSB', 'AM-SSB', 'BPSK', 'CPFSK', 'GFSK', 'PAM4', 'QAM16', 'QAM64', 'QPSK', 'WBFM']\n"
          ],
          "name": "stdout"
        }
      ]
    },
    {
      "cell_type": "markdown",
      "metadata": {
        "id": "bIeuyE0TN5DL",
        "colab_type": "text"
      },
      "source": [
        "\n",
        "So the lbl contains the modulation and the snr level, and the data points with the same `Y_train` one-hot encoding are of the same modulation (but can be different SNR Levels).\n"
      ]
    },
    {
      "cell_type": "code",
      "metadata": {
        "id": "I_sEff5iN1qn",
        "colab_type": "code",
        "colab": {
          "base_uri": "https://localhost:8080/",
          "height": 629
        },
        "outputId": "f75eb515-3b33-408a-b505-16bb24bf956f"
      },
      "source": [
        "# The CNN Network\n",
        "list(X_train.shape[1:])\n",
        "\n",
        "in_shp = list(X_train.shape[1:])\n",
        "dr = 0.5 # dropout rate (%)\n",
        "#==============================================================================\n",
        "# Build VT-CNN2 Neural Net model using Keras\n",
        "#  - Reshape [N,2,128] to [N,1,2,128] on input\n",
        "#  - Pass through 2 2DConv/ReLu layers\n",
        "#  - Pass through 2 Dense layers (ReLu and Softmax)\n",
        "#  - Perform categorical cross entropy optimization\n",
        "\n",
        "model = tf.keras.models.Sequential()\n",
        "model.add(tf.keras.layers.Reshape([1]+in_shp, input_shape=in_shp))\n",
        "model.add(tf.keras.layers.ZeroPadding2D((0,2),data_format='channels_first'))\n",
        "model.add(tf.keras.layers.Convolution2D(256,(1,3), padding='valid', activation=\"relu\", name=\"conv1\",data_format='channels_first', kernel_initializer='glorot_uniform'))\n",
        "model.add(tf.keras.layers.Dropout(dr))\n",
        "model.add(tf.keras.layers.ZeroPadding2D((0,2),data_format='channels_first'))\n",
        "model.add(tf.keras.layers.Convolution2D(80,(2,3), padding=\"valid\", activation=\"relu\", name=\"conv2\", data_format='channels_first', kernel_initializer='glorot_uniform'))\n",
        "model.add(tf.keras.layers.Dropout(dr))\n",
        "model.add(tf.keras.layers.Flatten())\n",
        "model.add(tf.keras.layers.Dense(256, activation='relu', kernel_initializer='he_normal', name=\"dense1\"))\n",
        "model.add(tf.keras.layers.Dropout(dr))\n",
        "model.add(tf.keras.layers.Dense(len(classes), kernel_initializer='he_normal', name=\"dense2\" ))\n",
        "model.add(tf.keras.layers.Activation('softmax'))\n",
        "model.add(tf.keras.layers.Reshape([len(classes)]))\n",
        "model.compile(loss='categorical_crossentropy', optimizer='adam')\n",
        "model.summary()"
      ],
      "execution_count": 11,
      "outputs": [
        {
          "output_type": "stream",
          "text": [
            "Model: \"sequential\"\n",
            "_________________________________________________________________\n",
            "Layer (type)                 Output Shape              Param #   \n",
            "=================================================================\n",
            "reshape (Reshape)            (None, 1, 2, 128)         0         \n",
            "_________________________________________________________________\n",
            "zero_padding2d (ZeroPadding2 (None, 1, 2, 132)         0         \n",
            "_________________________________________________________________\n",
            "conv1 (Conv2D)               (None, 256, 2, 130)       1024      \n",
            "_________________________________________________________________\n",
            "dropout (Dropout)            (None, 256, 2, 130)       0         \n",
            "_________________________________________________________________\n",
            "zero_padding2d_1 (ZeroPaddin (None, 256, 2, 134)       0         \n",
            "_________________________________________________________________\n",
            "conv2 (Conv2D)               (None, 80, 1, 132)        122960    \n",
            "_________________________________________________________________\n",
            "dropout_1 (Dropout)          (None, 80, 1, 132)        0         \n",
            "_________________________________________________________________\n",
            "flatten (Flatten)            (None, 10560)             0         \n",
            "_________________________________________________________________\n",
            "dense1 (Dense)               (None, 256)               2703616   \n",
            "_________________________________________________________________\n",
            "dropout_2 (Dropout)          (None, 256)               0         \n",
            "_________________________________________________________________\n",
            "dense2 (Dense)               (None, 11)                2827      \n",
            "_________________________________________________________________\n",
            "activation (Activation)      (None, 11)                0         \n",
            "_________________________________________________________________\n",
            "reshape_1 (Reshape)          (None, 11)                0         \n",
            "=================================================================\n",
            "Total params: 2,830,427\n",
            "Trainable params: 2,830,427\n",
            "Non-trainable params: 0\n",
            "_________________________________________________________________\n"
          ],
          "name": "stdout"
        }
      ]
    },
    {
      "cell_type": "code",
      "metadata": {
        "id": "jl02_eOuSCOZ",
        "colab_type": "code",
        "colab": {
          "base_uri": "https://localhost:8080/",
          "height": 1000
        },
        "outputId": "a79a7623-6eac-4b85-d2fe-991d706c7f52"
      },
      "source": [
        "#==============================================================================\n",
        "# Set up some params \n",
        "nb_epoch = 100     # number of epochs to train on\n",
        "batch_size = 1024  # training batch size\n",
        "filepath = 'My Drive/Colab Notebooks/model.h5'\n",
        "callbacks = [\n",
        "    tf.keras.callbacks.ModelCheckpoint(filepath, monitor='val_loss', verbose=0, save_best_only=True, mode='auto'),\n",
        "    tf.keras.callbacks.EarlyStopping(monitor='val_loss', patience=5, verbose=0, mode='auto')\n",
        "]\n",
        "# perform training ...\n",
        "history = model.fit(X_train,\n",
        "    Y_train,\n",
        "    batch_size=batch_size,\n",
        "    epochs=nb_epoch,\n",
        "    verbose=2,\n",
        "    validation_data=(X_test, Y_test),\n",
        "    callbacks = callbacks)"
      ],
      "execution_count": 13,
      "outputs": [
        {
          "output_type": "stream",
          "text": [
            "Train on 110000 samples, validate on 110000 samples\n",
            "Epoch 1/100\n",
            "110000/110000 - 7s - loss: 2.0462 - val_loss: 1.9100\n",
            "Epoch 2/100\n",
            "110000/110000 - 7s - loss: 1.8951 - val_loss: 1.7813\n",
            "Epoch 3/100\n",
            "110000/110000 - 7s - loss: 1.7828 - val_loss: 1.6574\n",
            "Epoch 4/100\n",
            "110000/110000 - 7s - loss: 1.6766 - val_loss: 1.5577\n",
            "Epoch 5/100\n",
            "110000/110000 - 7s - loss: 1.6093 - val_loss: 1.5327\n",
            "Epoch 6/100\n",
            "110000/110000 - 7s - loss: 1.5704 - val_loss: 1.4708\n",
            "Epoch 7/100\n",
            "110000/110000 - 7s - loss: 1.5388 - val_loss: 1.4526\n",
            "Epoch 8/100\n",
            "110000/110000 - 7s - loss: 1.5029 - val_loss: 1.3930\n",
            "Epoch 9/100\n",
            "110000/110000 - 7s - loss: 1.4795 - val_loss: 1.3851\n",
            "Epoch 10/100\n",
            "110000/110000 - 7s - loss: 1.4598 - val_loss: 1.3783\n",
            "Epoch 11/100\n",
            "110000/110000 - 7s - loss: 1.4413 - val_loss: 1.3395\n",
            "Epoch 12/100\n",
            "110000/110000 - 7s - loss: 1.4304 - val_loss: 1.3356\n",
            "Epoch 13/100\n",
            "110000/110000 - 7s - loss: 1.4163 - val_loss: 1.3474\n",
            "Epoch 14/100\n",
            "110000/110000 - 8s - loss: 1.4132 - val_loss: 1.3274\n",
            "Epoch 15/100\n",
            "110000/110000 - 7s - loss: 1.4006 - val_loss: 1.3305\n",
            "Epoch 16/100\n",
            "110000/110000 - 8s - loss: 1.3920 - val_loss: 1.3087\n",
            "Epoch 17/100\n",
            "110000/110000 - 7s - loss: 1.3855 - val_loss: 1.3020\n",
            "Epoch 18/100\n",
            "110000/110000 - 7s - loss: 1.3845 - val_loss: 1.3090\n",
            "Epoch 19/100\n",
            "110000/110000 - 7s - loss: 1.3776 - val_loss: 1.3099\n",
            "Epoch 20/100\n",
            "110000/110000 - 7s - loss: 1.3714 - val_loss: 1.3085\n",
            "Epoch 21/100\n",
            "110000/110000 - 8s - loss: 1.3686 - val_loss: 1.2936\n",
            "Epoch 22/100\n",
            "110000/110000 - 7s - loss: 1.3658 - val_loss: 1.3013\n",
            "Epoch 23/100\n",
            "110000/110000 - 7s - loss: 1.3612 - val_loss: 1.2984\n",
            "Epoch 24/100\n",
            "110000/110000 - 7s - loss: 1.3567 - val_loss: 1.2971\n",
            "Epoch 25/100\n",
            "110000/110000 - 7s - loss: 1.3582 - val_loss: 1.3059\n",
            "Epoch 26/100\n",
            "110000/110000 - 8s - loss: 1.3523 - val_loss: 1.2919\n",
            "Epoch 27/100\n",
            "110000/110000 - 7s - loss: 1.3480 - val_loss: 1.3259\n",
            "Epoch 28/100\n",
            "110000/110000 - 8s - loss: 1.3475 - val_loss: 1.2888\n",
            "Epoch 29/100\n",
            "110000/110000 - 7s - loss: 1.3409 - val_loss: 1.2863\n",
            "Epoch 30/100\n",
            "110000/110000 - 7s - loss: 1.3454 - val_loss: 1.2853\n",
            "Epoch 31/100\n",
            "110000/110000 - 7s - loss: 1.3375 - val_loss: 1.2801\n",
            "Epoch 32/100\n",
            "110000/110000 - 7s - loss: 1.3343 - val_loss: 1.2893\n",
            "Epoch 33/100\n",
            "110000/110000 - 7s - loss: 1.3345 - val_loss: 1.3118\n",
            "Epoch 34/100\n",
            "110000/110000 - 9s - loss: 1.3346 - val_loss: 1.2769\n",
            "Epoch 35/100\n",
            "110000/110000 - 7s - loss: 1.3276 - val_loss: 1.2928\n",
            "Epoch 36/100\n",
            "110000/110000 - 7s - loss: 1.3253 - val_loss: 1.2869\n",
            "Epoch 37/100\n",
            "110000/110000 - 7s - loss: 1.3235 - val_loss: 1.2805\n",
            "Epoch 38/100\n",
            "110000/110000 - 7s - loss: 1.3177 - val_loss: 1.2873\n",
            "Epoch 39/100\n",
            "110000/110000 - 7s - loss: 1.3160 - val_loss: 1.2857\n"
          ],
          "name": "stdout"
        }
      ]
    },
    {
      "cell_type": "code",
      "metadata": {
        "id": "OD-KG6-qY_LP",
        "colab_type": "code",
        "colab": {}
      },
      "source": [
        "evaluate(x=None, y=None, batch_size=None, verbose=1, sample_weight=None, steps=None, callbacks=None, max_queue_size=10, workers=1, use_multiprocessing=False)"
      ],
      "execution_count": 0,
      "outputs": []
    },
    {
      "cell_type": "code",
      "metadata": {
        "id": "T4JMpR8JSMuG",
        "colab_type": "code",
        "colab": {
          "base_uri": "https://localhost:8080/",
          "height": 215
        },
        "outputId": "e34edde4-5c1a-4d0a-d82a-71aa685a7bf3"
      },
      "source": [
        "\n",
        "# Show simple version of performance\n",
        "score = model.evaluate(X_test, Y_test, verbose=1, batch_size=batch_size)\n",
        "print(score)\n"
      ],
      "execution_count": 15,
      "outputs": [
        {
          "output_type": "stream",
          "text": [
            "IOPub data rate exceeded.\n",
            "The notebook server will temporarily stop sending output\n",
            "to the client in order to avoid crashing it.\n",
            "To change this limit, set the config variable\n",
            "`--NotebookApp.iopub_data_rate_limit`.\n",
            "\n",
            "Current values:\n",
            "NotebookApp.iopub_data_rate_limit=1000000.0 (bytes/sec)\n",
            "NotebookApp.rate_limit_window=3.0 (secs)\n",
            "\n"
          ],
          "name": "stderr"
        },
        {
          "output_type": "stream",
          "text": [
            "1.2857079607530073\n"
          ],
          "name": "stdout"
        }
      ]
    },
    {
      "cell_type": "code",
      "metadata": {
        "id": "CBeZ9DU1VN4F",
        "colab_type": "code",
        "colab": {
          "base_uri": "https://localhost:8080/",
          "height": 299
        },
        "outputId": "da1f60d2-0c73-4693-9ca9-aed351df8b38"
      },
      "source": [
        "# Show loss curves \n",
        "plt.figure()\n",
        "plt.title('Training performance')\n",
        "plt.plot(history.epoch, history.history['loss'], label='train loss+error')\n",
        "plt.plot(history.epoch, history.history['val_loss'], label='val_error')\n",
        "plt.legend()"
      ],
      "execution_count": 17,
      "outputs": [
        {
          "output_type": "execute_result",
          "data": {
            "text/plain": [
              "<matplotlib.legend.Legend at 0x7fe958043ba8>"
            ]
          },
          "metadata": {
            "tags": []
          },
          "execution_count": 17
        },
        {
          "output_type": "display_data",
          "data": {
            "image/png": "[encoded data removed]",
            "text/plain": [
              "<Figure size 432x288 with 1 Axes>"
            ]
          },
          "metadata": {
            "tags": []
          }
        }
      ]
    },
    {
      "cell_type": "code",
      "metadata": {
        "id": "w0-J2JRCa0b-",
        "colab_type": "code",
        "colab": {}
      },
      "source": [
        ""
      ],
      "execution_count": 0,
      "outputs": []
    }
  ]
}